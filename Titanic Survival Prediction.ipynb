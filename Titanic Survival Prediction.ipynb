{
 "cells": [
  {
   "cell_type": "code",
   "execution_count": 1,
   "metadata": {},
   "outputs": [],
   "source": [
    "# Import necessary packages\n",
    "import pandas as pd\n",
    "import numpy as np\n",
    "import os\n",
    "import seaborn as sns\n",
    "import matplotlib.pyplot as plt\n",
    "%matplotlib inline\n",
    "\n",
    "import warnings\n",
    "from sklearn.linear_model import LogisticRegression\n",
    "from sklearn.model_selection import train_test_split\n",
    "from sklearn.neighbors import KNeighborsClassifier\n",
    "from sklearn.tree import DecisionTreeClassifier\n",
    "from sklearn.ensemble import RandomForestClassifier\n",
    "from xgboost import XGBClassifier"
   ]
  },
  {
   "cell_type": "code",
   "execution_count": 2,
   "metadata": {},
   "outputs": [
    {
     "data": {
      "text/plain": [
       "'C:\\\\Users\\\\yikun.sun\\\\Desktop\\\\Python\\\\Titanic Survival'"
      ]
     },
     "execution_count": 2,
     "metadata": {},
     "output_type": "execute_result"
    }
   ],
   "source": [
    "# Check the current working directory\n",
    "os.getcwd()"
   ]
  },
  {
   "cell_type": "code",
   "execution_count": 3,
   "metadata": {},
   "outputs": [],
   "source": [
    "# Read in both the training and testing data\n",
    "train = pd.read_csv('train.csv')\n",
    "test = pd.read_csv('test.csv')"
   ]
  },
  {
   "cell_type": "code",
   "execution_count": 4,
   "metadata": {
    "scrolled": true
   },
   "outputs": [
    {
     "data": {
      "text/html": [
       "<div>\n",
       "<style scoped>\n",
       "    .dataframe tbody tr th:only-of-type {\n",
       "        vertical-align: middle;\n",
       "    }\n",
       "\n",
       "    .dataframe tbody tr th {\n",
       "        vertical-align: top;\n",
       "    }\n",
       "\n",
       "    .dataframe thead th {\n",
       "        text-align: right;\n",
       "    }\n",
       "</style>\n",
       "<table border=\"1\" class=\"dataframe\">\n",
       "  <thead>\n",
       "    <tr style=\"text-align: right;\">\n",
       "      <th></th>\n",
       "      <th>PassengerId</th>\n",
       "      <th>Survived</th>\n",
       "      <th>Pclass</th>\n",
       "      <th>Name</th>\n",
       "      <th>Sex</th>\n",
       "      <th>Age</th>\n",
       "      <th>SibSp</th>\n",
       "      <th>Parch</th>\n",
       "      <th>Ticket</th>\n",
       "      <th>Fare</th>\n",
       "      <th>Cabin</th>\n",
       "      <th>Embarked</th>\n",
       "    </tr>\n",
       "  </thead>\n",
       "  <tbody>\n",
       "    <tr>\n",
       "      <th>0</th>\n",
       "      <td>1</td>\n",
       "      <td>0</td>\n",
       "      <td>3</td>\n",
       "      <td>Braund, Mr. Owen Harris</td>\n",
       "      <td>male</td>\n",
       "      <td>22.0</td>\n",
       "      <td>1</td>\n",
       "      <td>0</td>\n",
       "      <td>A/5 21171</td>\n",
       "      <td>7.2500</td>\n",
       "      <td>NaN</td>\n",
       "      <td>S</td>\n",
       "    </tr>\n",
       "    <tr>\n",
       "      <th>1</th>\n",
       "      <td>2</td>\n",
       "      <td>1</td>\n",
       "      <td>1</td>\n",
       "      <td>Cumings, Mrs. John Bradley (Florence Briggs Th...</td>\n",
       "      <td>female</td>\n",
       "      <td>38.0</td>\n",
       "      <td>1</td>\n",
       "      <td>0</td>\n",
       "      <td>PC 17599</td>\n",
       "      <td>71.2833</td>\n",
       "      <td>C85</td>\n",
       "      <td>C</td>\n",
       "    </tr>\n",
       "    <tr>\n",
       "      <th>2</th>\n",
       "      <td>3</td>\n",
       "      <td>1</td>\n",
       "      <td>3</td>\n",
       "      <td>Heikkinen, Miss. Laina</td>\n",
       "      <td>female</td>\n",
       "      <td>26.0</td>\n",
       "      <td>0</td>\n",
       "      <td>0</td>\n",
       "      <td>STON/O2. 3101282</td>\n",
       "      <td>7.9250</td>\n",
       "      <td>NaN</td>\n",
       "      <td>S</td>\n",
       "    </tr>\n",
       "    <tr>\n",
       "      <th>3</th>\n",
       "      <td>4</td>\n",
       "      <td>1</td>\n",
       "      <td>1</td>\n",
       "      <td>Futrelle, Mrs. Jacques Heath (Lily May Peel)</td>\n",
       "      <td>female</td>\n",
       "      <td>35.0</td>\n",
       "      <td>1</td>\n",
       "      <td>0</td>\n",
       "      <td>113803</td>\n",
       "      <td>53.1000</td>\n",
       "      <td>C123</td>\n",
       "      <td>S</td>\n",
       "    </tr>\n",
       "    <tr>\n",
       "      <th>4</th>\n",
       "      <td>5</td>\n",
       "      <td>0</td>\n",
       "      <td>3</td>\n",
       "      <td>Allen, Mr. William Henry</td>\n",
       "      <td>male</td>\n",
       "      <td>35.0</td>\n",
       "      <td>0</td>\n",
       "      <td>0</td>\n",
       "      <td>373450</td>\n",
       "      <td>8.0500</td>\n",
       "      <td>NaN</td>\n",
       "      <td>S</td>\n",
       "    </tr>\n",
       "  </tbody>\n",
       "</table>\n",
       "</div>"
      ],
      "text/plain": [
       "   PassengerId  Survived  Pclass  \\\n",
       "0            1         0       3   \n",
       "1            2         1       1   \n",
       "2            3         1       3   \n",
       "3            4         1       1   \n",
       "4            5         0       3   \n",
       "\n",
       "                                                Name     Sex   Age  SibSp  \\\n",
       "0                            Braund, Mr. Owen Harris    male  22.0      1   \n",
       "1  Cumings, Mrs. John Bradley (Florence Briggs Th...  female  38.0      1   \n",
       "2                             Heikkinen, Miss. Laina  female  26.0      0   \n",
       "3       Futrelle, Mrs. Jacques Heath (Lily May Peel)  female  35.0      1   \n",
       "4                           Allen, Mr. William Henry    male  35.0      0   \n",
       "\n",
       "   Parch            Ticket     Fare Cabin Embarked  \n",
       "0      0         A/5 21171   7.2500   NaN        S  \n",
       "1      0          PC 17599  71.2833   C85        C  \n",
       "2      0  STON/O2. 3101282   7.9250   NaN        S  \n",
       "3      0            113803  53.1000  C123        S  \n",
       "4      0            373450   8.0500   NaN        S  "
      ]
     },
     "execution_count": 4,
     "metadata": {},
     "output_type": "execute_result"
    }
   ],
   "source": [
    "# Take a look at the first few records to get familiar with each field\n",
    "# Name and Ticket don't seem to have a strong relationship with the survival rate.\n",
    "# Let's keep them in the dataset for now and maybe drop them later if there are many missing values.\n",
    "train.head()"
   ]
  },
  {
   "cell_type": "code",
   "execution_count": 5,
   "metadata": {},
   "outputs": [
    {
     "data": {
      "text/plain": [
       "(891, 12)"
      ]
     },
     "execution_count": 5,
     "metadata": {},
     "output_type": "execute_result"
    }
   ],
   "source": [
    "# Check the number of rows and columns in training data\n",
    "train.shape"
   ]
  },
  {
   "cell_type": "code",
   "execution_count": 6,
   "metadata": {},
   "outputs": [
    {
     "data": {
      "text/plain": [
       "(418, 11)"
      ]
     },
     "execution_count": 6,
     "metadata": {},
     "output_type": "execute_result"
    }
   ],
   "source": [
    "# Check the number of rows and columns in testing data\n",
    "test.shape"
   ]
  },
  {
   "cell_type": "code",
   "execution_count": 7,
   "metadata": {},
   "outputs": [],
   "source": [
    "# Build a function to check for missing values in a dataset\n",
    "def sum_missing(df):\n",
    "    missing = df.isnull().sum().sort_values(ascending=False)\n",
    "    percent = round(100*df.isnull().sum()/df.isnull().count(),1).sort_values(ascending=False)\n",
    "    missing_data = pd.concat([missing, percent], axis=1, keys=['Count', 'Percent'])\n",
    "    return missing_data"
   ]
  },
  {
   "cell_type": "code",
   "execution_count": 8,
   "metadata": {},
   "outputs": [
    {
     "name": "stdout",
     "output_type": "stream",
     "text": [
      "             Count  Percent\n",
      "Cabin          687     77.1\n",
      "Age            177     19.9\n",
      "Embarked         2      0.2\n",
      "PassengerId      0      0.0\n",
      "Survived         0      0.0\n",
      "Pclass           0      0.0\n",
      "Name             0      0.0\n",
      "Sex              0      0.0\n",
      "SibSp            0      0.0\n",
      "Parch            0      0.0\n",
      "Ticket           0      0.0\n",
      "Fare             0      0.0\n",
      "             Count  Percent\n",
      "Cabin          327     78.2\n",
      "Age             86     20.6\n",
      "Fare             1      0.2\n",
      "PassengerId      0      0.0\n",
      "Pclass           0      0.0\n",
      "Name             0      0.0\n",
      "Sex              0      0.0\n",
      "SibSp            0      0.0\n",
      "Parch            0      0.0\n",
      "Ticket           0      0.0\n",
      "Embarked         0      0.0\n"
     ]
    }
   ],
   "source": [
    "# Check for missing values in training and testing data\n",
    "print(sum_missing(train))\n",
    "print(sum_missing(test))"
   ]
  },
  {
   "cell_type": "code",
   "execution_count": 9,
   "metadata": {
    "scrolled": true
   },
   "outputs": [],
   "source": [
    "# Cabin has more than 75% missing data in both training and testing data. \n",
    "# Due to the huge amount of missing values, usually imputing doesn't produce good results, so let's drop is in both datasets.\n",
    "train = train.drop(['Cabin'], axis=1)\n",
    "test = test.drop(['Cabin'], axis=1)"
   ]
  },
  {
   "cell_type": "code",
   "execution_count": 10,
   "metadata": {},
   "outputs": [],
   "source": [
    "# Besides Age, there are 2 missing values for Embarked in training data, which only represent 0.2% of the whole dataset.\n",
    "# So we can drop the 2 missing values.\n",
    "# We will impute missing values in Age later after EDA because Age might be correlated with other variables.\n",
    "# If we impute Age with mean value, that might mask the correlation between Age and other variables. \n",
    "train.dropna(subset=['Embarked'], inplace=True)"
   ]
  },
  {
   "cell_type": "code",
   "execution_count": 11,
   "metadata": {
    "scrolled": false
   },
   "outputs": [
    {
     "data": {
      "text/html": [
       "<div>\n",
       "<style scoped>\n",
       "    .dataframe tbody tr th:only-of-type {\n",
       "        vertical-align: middle;\n",
       "    }\n",
       "\n",
       "    .dataframe tbody tr th {\n",
       "        vertical-align: top;\n",
       "    }\n",
       "\n",
       "    .dataframe thead th {\n",
       "        text-align: right;\n",
       "    }\n",
       "</style>\n",
       "<table border=\"1\" class=\"dataframe\">\n",
       "  <thead>\n",
       "    <tr style=\"text-align: right;\">\n",
       "      <th></th>\n",
       "      <th>Pclass</th>\n",
       "      <th>Survived</th>\n",
       "    </tr>\n",
       "  </thead>\n",
       "  <tbody>\n",
       "    <tr>\n",
       "      <th>0</th>\n",
       "      <td>1</td>\n",
       "      <td>0.626168</td>\n",
       "    </tr>\n",
       "    <tr>\n",
       "      <th>1</th>\n",
       "      <td>2</td>\n",
       "      <td>0.472826</td>\n",
       "    </tr>\n",
       "    <tr>\n",
       "      <th>2</th>\n",
       "      <td>3</td>\n",
       "      <td>0.242363</td>\n",
       "    </tr>\n",
       "  </tbody>\n",
       "</table>\n",
       "</div>"
      ],
      "text/plain": [
       "   Pclass  Survived\n",
       "0       1  0.626168\n",
       "1       2  0.472826\n",
       "2       3  0.242363"
      ]
     },
     "execution_count": 11,
     "metadata": {},
     "output_type": "execute_result"
    }
   ],
   "source": [
    "# Pclass, Sex, SibSp, Parch, Embarked seem to have a strong relationship with the chance of surviving.\n",
    "# Let's go through each variable to see if the survival rate differs among the levels.\n",
    "# We will go through Age and Fare later since these continuous variables have a broader range.\n",
    "\n",
    "# Upper class passengers' survival rate > Middle class passengers' > Lower class passengers'\n",
    "train[['Pclass', 'Survived']].groupby('Pclass').mean().reset_index()"
   ]
  },
  {
   "cell_type": "code",
   "execution_count": 12,
   "metadata": {
    "scrolled": true
   },
   "outputs": [
    {
     "data": {
      "text/html": [
       "<div>\n",
       "<style scoped>\n",
       "    .dataframe tbody tr th:only-of-type {\n",
       "        vertical-align: middle;\n",
       "    }\n",
       "\n",
       "    .dataframe tbody tr th {\n",
       "        vertical-align: top;\n",
       "    }\n",
       "\n",
       "    .dataframe thead th {\n",
       "        text-align: right;\n",
       "    }\n",
       "</style>\n",
       "<table border=\"1\" class=\"dataframe\">\n",
       "  <thead>\n",
       "    <tr style=\"text-align: right;\">\n",
       "      <th></th>\n",
       "      <th>Sex</th>\n",
       "      <th>Survived</th>\n",
       "    </tr>\n",
       "  </thead>\n",
       "  <tbody>\n",
       "    <tr>\n",
       "      <th>0</th>\n",
       "      <td>female</td>\n",
       "      <td>0.740385</td>\n",
       "    </tr>\n",
       "    <tr>\n",
       "      <th>1</th>\n",
       "      <td>male</td>\n",
       "      <td>0.188908</td>\n",
       "    </tr>\n",
       "  </tbody>\n",
       "</table>\n",
       "</div>"
      ],
      "text/plain": [
       "      Sex  Survived\n",
       "0  female  0.740385\n",
       "1    male  0.188908"
      ]
     },
     "execution_count": 12,
     "metadata": {},
     "output_type": "execute_result"
    }
   ],
   "source": [
    "# Female passengers are much more likely to survive than male passengers\n",
    "train[['Sex', 'Survived']].groupby('Sex').mean().reset_index()"
   ]
  },
  {
   "cell_type": "code",
   "execution_count": 13,
   "metadata": {
    "scrolled": false
   },
   "outputs": [
    {
     "data": {
      "text/html": [
       "<div>\n",
       "<style scoped>\n",
       "    .dataframe tbody tr th:only-of-type {\n",
       "        vertical-align: middle;\n",
       "    }\n",
       "\n",
       "    .dataframe tbody tr th {\n",
       "        vertical-align: top;\n",
       "    }\n",
       "\n",
       "    .dataframe thead th {\n",
       "        text-align: right;\n",
       "    }\n",
       "</style>\n",
       "<table border=\"1\" class=\"dataframe\">\n",
       "  <thead>\n",
       "    <tr style=\"text-align: right;\">\n",
       "      <th></th>\n",
       "      <th>SibSp</th>\n",
       "      <th>Survived</th>\n",
       "    </tr>\n",
       "  </thead>\n",
       "  <tbody>\n",
       "    <tr>\n",
       "      <th>0</th>\n",
       "      <td>0</td>\n",
       "      <td>0.343234</td>\n",
       "    </tr>\n",
       "    <tr>\n",
       "      <th>1</th>\n",
       "      <td>1</td>\n",
       "      <td>0.535885</td>\n",
       "    </tr>\n",
       "    <tr>\n",
       "      <th>2</th>\n",
       "      <td>2</td>\n",
       "      <td>0.464286</td>\n",
       "    </tr>\n",
       "    <tr>\n",
       "      <th>3</th>\n",
       "      <td>3</td>\n",
       "      <td>0.250000</td>\n",
       "    </tr>\n",
       "    <tr>\n",
       "      <th>4</th>\n",
       "      <td>4</td>\n",
       "      <td>0.166667</td>\n",
       "    </tr>\n",
       "    <tr>\n",
       "      <th>5</th>\n",
       "      <td>5</td>\n",
       "      <td>0.000000</td>\n",
       "    </tr>\n",
       "    <tr>\n",
       "      <th>6</th>\n",
       "      <td>8</td>\n",
       "      <td>0.000000</td>\n",
       "    </tr>\n",
       "  </tbody>\n",
       "</table>\n",
       "</div>"
      ],
      "text/plain": [
       "   SibSp  Survived\n",
       "0      0  0.343234\n",
       "1      1  0.535885\n",
       "2      2  0.464286\n",
       "3      3  0.250000\n",
       "4      4  0.166667\n",
       "5      5  0.000000\n",
       "6      8  0.000000"
      ]
     },
     "execution_count": 13,
     "metadata": {},
     "output_type": "execute_result"
    }
   ],
   "source": [
    "# Survival rate increases when the # of siblings and spouses increases to 1 from 0.\n",
    "# However, the rate decreases as passengers have more siblings and spouses.\n",
    "# None of the passengers with 5 or 8 siblings and spouses survived, \n",
    "# which means passengers with a huge family have much lower survival rate than those with a small family.\n",
    "train[['SibSp', 'Survived']].groupby('SibSp').mean().reset_index()"
   ]
  },
  {
   "cell_type": "code",
   "execution_count": 14,
   "metadata": {},
   "outputs": [
    {
     "data": {
      "text/html": [
       "<div>\n",
       "<style scoped>\n",
       "    .dataframe tbody tr th:only-of-type {\n",
       "        vertical-align: middle;\n",
       "    }\n",
       "\n",
       "    .dataframe tbody tr th {\n",
       "        vertical-align: top;\n",
       "    }\n",
       "\n",
       "    .dataframe thead th {\n",
       "        text-align: right;\n",
       "    }\n",
       "</style>\n",
       "<table border=\"1\" class=\"dataframe\">\n",
       "  <thead>\n",
       "    <tr style=\"text-align: right;\">\n",
       "      <th></th>\n",
       "      <th>Parch</th>\n",
       "      <th>Survived</th>\n",
       "    </tr>\n",
       "  </thead>\n",
       "  <tbody>\n",
       "    <tr>\n",
       "      <th>0</th>\n",
       "      <td>0</td>\n",
       "      <td>0.341716</td>\n",
       "    </tr>\n",
       "    <tr>\n",
       "      <th>1</th>\n",
       "      <td>1</td>\n",
       "      <td>0.550847</td>\n",
       "    </tr>\n",
       "    <tr>\n",
       "      <th>2</th>\n",
       "      <td>2</td>\n",
       "      <td>0.500000</td>\n",
       "    </tr>\n",
       "    <tr>\n",
       "      <th>3</th>\n",
       "      <td>3</td>\n",
       "      <td>0.600000</td>\n",
       "    </tr>\n",
       "    <tr>\n",
       "      <th>4</th>\n",
       "      <td>4</td>\n",
       "      <td>0.000000</td>\n",
       "    </tr>\n",
       "    <tr>\n",
       "      <th>5</th>\n",
       "      <td>5</td>\n",
       "      <td>0.200000</td>\n",
       "    </tr>\n",
       "    <tr>\n",
       "      <th>6</th>\n",
       "      <td>6</td>\n",
       "      <td>0.000000</td>\n",
       "    </tr>\n",
       "  </tbody>\n",
       "</table>\n",
       "</div>"
      ],
      "text/plain": [
       "   Parch  Survived\n",
       "0      0  0.341716\n",
       "1      1  0.550847\n",
       "2      2  0.500000\n",
       "3      3  0.600000\n",
       "4      4  0.000000\n",
       "5      5  0.200000\n",
       "6      6  0.000000"
      ]
     },
     "execution_count": 14,
     "metadata": {},
     "output_type": "execute_result"
    }
   ],
   "source": [
    "# Passengers with 1, 2, 3 parents and children are more likely to survive than passengers without any parents or children.\n",
    "# This makes sense because the old and the young would be helped first.\n",
    "# Passengers with 3 parents and children have highest survival rate. \n",
    "# However, when passengers have a bigger family, such as 4, 5, 6 parents or children, their likelihood to survive decreases. \n",
    "# This observation matches what we just observed from the relationship between SibSp and Survived\n",
    "train[['Parch', 'Survived']].groupby('Parch').mean().reset_index()"
   ]
  },
  {
   "cell_type": "code",
   "execution_count": 15,
   "metadata": {
    "scrolled": true
   },
   "outputs": [
    {
     "data": {
      "text/html": [
       "<div>\n",
       "<style scoped>\n",
       "    .dataframe tbody tr th:only-of-type {\n",
       "        vertical-align: middle;\n",
       "    }\n",
       "\n",
       "    .dataframe tbody tr th {\n",
       "        vertical-align: top;\n",
       "    }\n",
       "\n",
       "    .dataframe thead th {\n",
       "        text-align: right;\n",
       "    }\n",
       "</style>\n",
       "<table border=\"1\" class=\"dataframe\">\n",
       "  <thead>\n",
       "    <tr style=\"text-align: right;\">\n",
       "      <th></th>\n",
       "      <th>Embarked</th>\n",
       "      <th>Survived</th>\n",
       "    </tr>\n",
       "  </thead>\n",
       "  <tbody>\n",
       "    <tr>\n",
       "      <th>0</th>\n",
       "      <td>C</td>\n",
       "      <td>0.553571</td>\n",
       "    </tr>\n",
       "    <tr>\n",
       "      <th>1</th>\n",
       "      <td>Q</td>\n",
       "      <td>0.389610</td>\n",
       "    </tr>\n",
       "    <tr>\n",
       "      <th>2</th>\n",
       "      <td>S</td>\n",
       "      <td>0.336957</td>\n",
       "    </tr>\n",
       "  </tbody>\n",
       "</table>\n",
       "</div>"
      ],
      "text/plain": [
       "  Embarked  Survived\n",
       "0        C  0.553571\n",
       "1        Q  0.389610\n",
       "2        S  0.336957"
      ]
     },
     "execution_count": 15,
     "metadata": {},
     "output_type": "execute_result"
    }
   ],
   "source": [
    "# Passengers who embarked in Cherbourg have a higher survival rate than Queenstown, \n",
    "# whose survival rate is higher than Southampton.\n",
    "train[['Embarked', 'Survived']].groupby('Embarked').mean().reset_index()"
   ]
  },
  {
   "cell_type": "code",
   "execution_count": 16,
   "metadata": {},
   "outputs": [
    {
     "data": {
      "image/png": "[encoded data removed]",
      "text/plain": [
       "<Figure size 432x216 with 2 Axes>"
      ]
     },
     "metadata": {
      "needs_background": "light"
     },
     "output_type": "display_data"
    }
   ],
   "source": [
    "# Let's visualize the relationship between Age and Survived\n",
    "# More kids between 0 and 10 years old survived than those who didn't\n",
    "# More adults between 20 and 60 died than those survived\n",
    "# There seems to be a negative relationship between Age and Survived\n",
    "sns.FacetGrid(train, col = 'Survived').map(sns.histplot, 'Age')\n",
    "plt.show()"
   ]
  },
  {
   "cell_type": "code",
   "execution_count": 17,
   "metadata": {},
   "outputs": [
    {
     "data": {
      "image/png": "[encoded data removed]",
      "text/plain": [
       "<Figure size 432x216 with 2 Axes>"
      ]
     },
     "metadata": {
      "needs_background": "light"
     },
     "output_type": "display_data"
    }
   ],
   "source": [
    "# Let's see if Fare plays a role in the survival rate\n",
    "# Survival rate for passengers with $0-$50 is much lower than that for passengers with $50-$150\n",
    "# Set x axis between 0 and 200, because there's few guests paid over $200 and for easier comparison\n",
    "fig = sns.FacetGrid(train, col = 'Survived', xlim=(0,200)).map(sns.histplot, 'Fare')"
   ]
  },
  {
   "cell_type": "code",
   "execution_count": 18,
   "metadata": {
    "scrolled": false
   },
   "outputs": [
    {
     "data": {
      "image/png": "[encoded data removed]",
      "text/plain": [
       "<Figure size 720x576 with 2 Axes>"
      ]
     },
     "metadata": {
      "needs_background": "light"
     },
     "output_type": "display_data"
    }
   ],
   "source": [
    "# Use a heatmap to see each variable's relationship with Survived\n",
    "# Similar to what we observed, Pclass, Age, SibSp all have a negative relationship with Survived\n",
    "# Fare and Parch have a positive relationship with Survived\n",
    "# All these variables should be included in the model\n",
    "f, ax = plt.subplots(figsize=(10,8))\n",
    "sns.heatmap(train.corr(), annot=True)\n",
    "plt.show()"
   ]
  },
  {
   "cell_type": "code",
   "execution_count": 19,
   "metadata": {
    "scrolled": false
   },
   "outputs": [
    {
     "data": {
      "text/html": [
       "<div>\n",
       "<style scoped>\n",
       "    .dataframe tbody tr th:only-of-type {\n",
       "        vertical-align: middle;\n",
       "    }\n",
       "\n",
       "    .dataframe tbody tr th {\n",
       "        vertical-align: top;\n",
       "    }\n",
       "\n",
       "    .dataframe thead th {\n",
       "        text-align: right;\n",
       "    }\n",
       "</style>\n",
       "<table border=\"1\" class=\"dataframe\">\n",
       "  <thead>\n",
       "    <tr style=\"text-align: right;\">\n",
       "      <th></th>\n",
       "      <th>Survived</th>\n",
       "      <th>Pclass</th>\n",
       "      <th>Name</th>\n",
       "      <th>Sex</th>\n",
       "      <th>Age</th>\n",
       "      <th>SibSp</th>\n",
       "      <th>Parch</th>\n",
       "      <th>Fare</th>\n",
       "      <th>Embarked</th>\n",
       "    </tr>\n",
       "  </thead>\n",
       "  <tbody>\n",
       "    <tr>\n",
       "      <th>0</th>\n",
       "      <td>0</td>\n",
       "      <td>3</td>\n",
       "      <td>Braund, Mr. Owen Harris</td>\n",
       "      <td>male</td>\n",
       "      <td>22.0</td>\n",
       "      <td>1</td>\n",
       "      <td>0</td>\n",
       "      <td>7.2500</td>\n",
       "      <td>S</td>\n",
       "    </tr>\n",
       "    <tr>\n",
       "      <th>1</th>\n",
       "      <td>1</td>\n",
       "      <td>1</td>\n",
       "      <td>Cumings, Mrs. John Bradley (Florence Briggs Th...</td>\n",
       "      <td>female</td>\n",
       "      <td>38.0</td>\n",
       "      <td>1</td>\n",
       "      <td>0</td>\n",
       "      <td>71.2833</td>\n",
       "      <td>C</td>\n",
       "    </tr>\n",
       "    <tr>\n",
       "      <th>2</th>\n",
       "      <td>1</td>\n",
       "      <td>3</td>\n",
       "      <td>Heikkinen, Miss. Laina</td>\n",
       "      <td>female</td>\n",
       "      <td>26.0</td>\n",
       "      <td>0</td>\n",
       "      <td>0</td>\n",
       "      <td>7.9250</td>\n",
       "      <td>S</td>\n",
       "    </tr>\n",
       "    <tr>\n",
       "      <th>3</th>\n",
       "      <td>1</td>\n",
       "      <td>1</td>\n",
       "      <td>Futrelle, Mrs. Jacques Heath (Lily May Peel)</td>\n",
       "      <td>female</td>\n",
       "      <td>35.0</td>\n",
       "      <td>1</td>\n",
       "      <td>0</td>\n",
       "      <td>53.1000</td>\n",
       "      <td>S</td>\n",
       "    </tr>\n",
       "    <tr>\n",
       "      <th>4</th>\n",
       "      <td>0</td>\n",
       "      <td>3</td>\n",
       "      <td>Allen, Mr. William Henry</td>\n",
       "      <td>male</td>\n",
       "      <td>35.0</td>\n",
       "      <td>0</td>\n",
       "      <td>0</td>\n",
       "      <td>8.0500</td>\n",
       "      <td>S</td>\n",
       "    </tr>\n",
       "  </tbody>\n",
       "</table>\n",
       "</div>"
      ],
      "text/plain": [
       "   Survived  Pclass                                               Name  \\\n",
       "0         0       3                            Braund, Mr. Owen Harris   \n",
       "1         1       1  Cumings, Mrs. John Bradley (Florence Briggs Th...   \n",
       "2         1       3                             Heikkinen, Miss. Laina   \n",
       "3         1       1       Futrelle, Mrs. Jacques Heath (Lily May Peel)   \n",
       "4         0       3                           Allen, Mr. William Henry   \n",
       "\n",
       "      Sex   Age  SibSp  Parch     Fare Embarked  \n",
       "0    male  22.0      1      0   7.2500        S  \n",
       "1  female  38.0      1      0  71.2833        C  \n",
       "2  female  26.0      0      0   7.9250        S  \n",
       "3  female  35.0      1      0  53.1000        S  \n",
       "4    male  35.0      0      0   8.0500        S  "
      ]
     },
     "execution_count": 19,
     "metadata": {},
     "output_type": "execute_result"
    }
   ],
   "source": [
    "# Data Cleaning and Feature Engineering start here\n",
    "# In the current dataset, we are certain that PassengerId and Ticket won't be included in the model since they barely help us predict the survival\n",
    "# Let's drop these columns from the dataset\n",
    "train.drop(['PassengerId', 'Ticket'], axis = 1, inplace = True)\n",
    "train.head()"
   ]
  },
  {
   "cell_type": "code",
   "execution_count": 20,
   "metadata": {
    "scrolled": true
   },
   "outputs": [
    {
     "data": {
      "text/html": [
       "<div>\n",
       "<style scoped>\n",
       "    .dataframe tbody tr th:only-of-type {\n",
       "        vertical-align: middle;\n",
       "    }\n",
       "\n",
       "    .dataframe tbody tr th {\n",
       "        vertical-align: top;\n",
       "    }\n",
       "\n",
       "    .dataframe thead th {\n",
       "        text-align: right;\n",
       "    }\n",
       "</style>\n",
       "<table border=\"1\" class=\"dataframe\">\n",
       "  <thead>\n",
       "    <tr style=\"text-align: right;\">\n",
       "      <th></th>\n",
       "      <th>Pclass</th>\n",
       "      <th>Name</th>\n",
       "      <th>Sex</th>\n",
       "      <th>Age</th>\n",
       "      <th>SibSp</th>\n",
       "      <th>Parch</th>\n",
       "      <th>Fare</th>\n",
       "      <th>Embarked</th>\n",
       "    </tr>\n",
       "  </thead>\n",
       "  <tbody>\n",
       "    <tr>\n",
       "      <th>0</th>\n",
       "      <td>3</td>\n",
       "      <td>Kelly, Mr. James</td>\n",
       "      <td>male</td>\n",
       "      <td>34.5</td>\n",
       "      <td>0</td>\n",
       "      <td>0</td>\n",
       "      <td>7.8292</td>\n",
       "      <td>Q</td>\n",
       "    </tr>\n",
       "    <tr>\n",
       "      <th>1</th>\n",
       "      <td>3</td>\n",
       "      <td>Wilkes, Mrs. James (Ellen Needs)</td>\n",
       "      <td>female</td>\n",
       "      <td>47.0</td>\n",
       "      <td>1</td>\n",
       "      <td>0</td>\n",
       "      <td>7.0000</td>\n",
       "      <td>S</td>\n",
       "    </tr>\n",
       "    <tr>\n",
       "      <th>2</th>\n",
       "      <td>2</td>\n",
       "      <td>Myles, Mr. Thomas Francis</td>\n",
       "      <td>male</td>\n",
       "      <td>62.0</td>\n",
       "      <td>0</td>\n",
       "      <td>0</td>\n",
       "      <td>9.6875</td>\n",
       "      <td>Q</td>\n",
       "    </tr>\n",
       "    <tr>\n",
       "      <th>3</th>\n",
       "      <td>3</td>\n",
       "      <td>Wirz, Mr. Albert</td>\n",
       "      <td>male</td>\n",
       "      <td>27.0</td>\n",
       "      <td>0</td>\n",
       "      <td>0</td>\n",
       "      <td>8.6625</td>\n",
       "      <td>S</td>\n",
       "    </tr>\n",
       "    <tr>\n",
       "      <th>4</th>\n",
       "      <td>3</td>\n",
       "      <td>Hirvonen, Mrs. Alexander (Helga E Lindqvist)</td>\n",
       "      <td>female</td>\n",
       "      <td>22.0</td>\n",
       "      <td>1</td>\n",
       "      <td>1</td>\n",
       "      <td>12.2875</td>\n",
       "      <td>S</td>\n",
       "    </tr>\n",
       "  </tbody>\n",
       "</table>\n",
       "</div>"
      ],
      "text/plain": [
       "   Pclass                                          Name     Sex   Age  SibSp  \\\n",
       "0       3                              Kelly, Mr. James    male  34.5      0   \n",
       "1       3              Wilkes, Mrs. James (Ellen Needs)  female  47.0      1   \n",
       "2       2                     Myles, Mr. Thomas Francis    male  62.0      0   \n",
       "3       3                              Wirz, Mr. Albert    male  27.0      0   \n",
       "4       3  Hirvonen, Mrs. Alexander (Helga E Lindqvist)  female  22.0      1   \n",
       "\n",
       "   Parch     Fare Embarked  \n",
       "0      0   7.8292        Q  \n",
       "1      0   7.0000        S  \n",
       "2      0   9.6875        Q  \n",
       "3      0   8.6625        S  \n",
       "4      1  12.2875        S  "
      ]
     },
     "execution_count": 20,
     "metadata": {},
     "output_type": "execute_result"
    }
   ],
   "source": [
    "# Repeat same step for testing data \n",
    "# In order to upload the results onto Kaggle, we need to store the PassengerId\n",
    "test_id = test.PassengerId\n",
    "test.drop(['PassengerId', 'Ticket'], axis = 1, inplace = True)\n",
    "test.head()"
   ]
  },
  {
   "cell_type": "code",
   "execution_count": 21,
   "metadata": {},
   "outputs": [],
   "source": [
    "# Besides Name, we still have Sex and Embarked as categorical variables. \n",
    "# We should apply one hot encoding to these two features since they are nominal variables.\n",
    "# There's no intrinsic rankings between Male and Female or among different embarkations.\n",
    "# Define a function to one hot encode categorical features, such as Sex and Embarked\n",
    "def one_hot_encode(df, column):\n",
    "    dummy = pd.get_dummies(df[column])\n",
    "    df = df.drop(column, axis=1)\n",
    "    df = df.join(dummy)\n",
    "    return df"
   ]
  },
  {
   "cell_type": "code",
   "execution_count": 22,
   "metadata": {
    "scrolled": true
   },
   "outputs": [],
   "source": [
    "# One hot encode Sex and Embarked in both training and testing data\n",
    "train = one_hot_encode(train, 'Sex')\n",
    "train = one_hot_encode(train, 'Embarked')\n",
    "test = one_hot_encode(test, 'Sex')\n",
    "test = one_hot_encode(test, 'Embarked')"
   ]
  },
  {
   "cell_type": "code",
   "execution_count": 23,
   "metadata": {},
   "outputs": [],
   "source": [
    "# We can drop the male column, since we can tell if a passenger is male or not by female feature.\n",
    "# When female is 0, it's a male passenger. When female is 1, the passenger is female.\n",
    "# We can also drop the S column. When both C and Q are 0, the passenger embarked at S.\n",
    "train.drop(['male', 'S'], axis=1, inplace=True)\n",
    "test.drop(['male', 'S'], axis=1, inplace=True)"
   ]
  },
  {
   "cell_type": "code",
   "execution_count": 24,
   "metadata": {},
   "outputs": [],
   "source": [
    "# The only remaining column in the string type is Name.\n",
    "# Passenger name doesn't help make predictions. However, the title associated with each name might be helpful.\n",
    "# Therefore, we should add another feature into our model, Title. Let's extract title from Name.\n",
    "train['Title'] = train['Name'].str.extract(' ([A-Za-z]+)\\.', expand=False)\n",
    "\n",
    "# There are four major titles, Mr, Miss, Mrs, Master.\n",
    "train.Title.value_counts()/train.Title.count()*100\n",
    "\n",
    "# Let's combine other titles into one category called Other\n",
    "train.Title = train.Title.replace(list(train.Title.value_counts()[4:].index), 'Other')\n",
    "\n",
    "# After adding the column Title, we can drop Name from the dataset\n",
    "train.drop(['Name'], axis=1, inplace=True)"
   ]
  },
  {
   "cell_type": "code",
   "execution_count": 25,
   "metadata": {
    "scrolled": true
   },
   "outputs": [
    {
     "data": {
      "text/html": [
       "<div>\n",
       "<style scoped>\n",
       "    .dataframe tbody tr th:only-of-type {\n",
       "        vertical-align: middle;\n",
       "    }\n",
       "\n",
       "    .dataframe tbody tr th {\n",
       "        vertical-align: top;\n",
       "    }\n",
       "\n",
       "    .dataframe thead th {\n",
       "        text-align: right;\n",
       "    }\n",
       "</style>\n",
       "<table border=\"1\" class=\"dataframe\">\n",
       "  <thead>\n",
       "    <tr style=\"text-align: right;\">\n",
       "      <th></th>\n",
       "      <th>Title</th>\n",
       "      <th>Survived</th>\n",
       "    </tr>\n",
       "  </thead>\n",
       "  <tbody>\n",
       "    <tr>\n",
       "      <th>3</th>\n",
       "      <td>Mrs</td>\n",
       "      <td>0.790323</td>\n",
       "    </tr>\n",
       "    <tr>\n",
       "      <th>1</th>\n",
       "      <td>Miss</td>\n",
       "      <td>0.696133</td>\n",
       "    </tr>\n",
       "    <tr>\n",
       "      <th>0</th>\n",
       "      <td>Master</td>\n",
       "      <td>0.575000</td>\n",
       "    </tr>\n",
       "    <tr>\n",
       "      <th>4</th>\n",
       "      <td>Other</td>\n",
       "      <td>0.444444</td>\n",
       "    </tr>\n",
       "    <tr>\n",
       "      <th>2</th>\n",
       "      <td>Mr</td>\n",
       "      <td>0.156673</td>\n",
       "    </tr>\n",
       "  </tbody>\n",
       "</table>\n",
       "</div>"
      ],
      "text/plain": [
       "    Title  Survived\n",
       "3     Mrs  0.790323\n",
       "1    Miss  0.696133\n",
       "0  Master  0.575000\n",
       "4   Other  0.444444\n",
       "2      Mr  0.156673"
      ]
     },
     "execution_count": 25,
     "metadata": {},
     "output_type": "execute_result"
    }
   ],
   "source": [
    "# Let's take a look at the average survival rate for each title\n",
    "# The goal here is to replace categorical values with numerical values\n",
    "pd.DataFrame(train.groupby(['Title']).Survived.mean()).reset_index().sort_values(by='Survived', ascending=False)"
   ]
  },
  {
   "cell_type": "code",
   "execution_count": 26,
   "metadata": {},
   "outputs": [],
   "source": [
    "# One hot encode Title\n",
    "train = one_hot_encode(train, 'Title')"
   ]
  },
  {
   "cell_type": "code",
   "execution_count": 27,
   "metadata": {
    "scrolled": true
   },
   "outputs": [],
   "source": [
    "# Repeat same step for testing data\n",
    "test['Title'] = test['Name'].str.extract(' ([A-Za-z]+)\\.', expand=False)\n",
    "test.Title = test.Title.replace(list(test.Title.value_counts()[4:].index), 'Other')\n",
    "test.drop(['Name'], axis=1, inplace=True)\n",
    "test = one_hot_encode(test, 'Title')"
   ]
  },
  {
   "cell_type": "code",
   "execution_count": 28,
   "metadata": {},
   "outputs": [],
   "source": [
    "# Let's set title \"Other\" as default in both training and testing data\n",
    "train.drop(['Other'], axis=1, inplace=True)\n",
    "test.drop(['Other'], axis=1, inplace=True)"
   ]
  },
  {
   "cell_type": "code",
   "execution_count": 29,
   "metadata": {},
   "outputs": [],
   "source": [
    "# For the missing values in Age, let's fill them with mean for now.\n",
    "# If the accuracy doesn't fulfill our expectations, we can come back and replace missing values in Age based on values in other fields\n",
    "train.Age.fillna(train.Age.mean(), inplace = True)\n",
    "test.Age.fillna(test.Age.mean(), inplace = True)"
   ]
  },
  {
   "cell_type": "code",
   "execution_count": 30,
   "metadata": {
    "scrolled": true
   },
   "outputs": [],
   "source": [
    "# Before the modeling process, there's still one missing value for Fare in testing data.\n",
    "# Becasue there's a strong correlation between Fare and Pclass, let's replace this missing value with the mean fare for that Pclass\n",
    "test[test['Fare'].isnull()] = test.groupby('Pclass').Fare.mean()[3]"
   ]
  },
  {
   "cell_type": "code",
   "execution_count": 31,
   "metadata": {},
   "outputs": [],
   "source": [
    "# We are done with the feature selecting and engineering step. \n",
    "# However, if our models generate an accuracy score lower than expected, we may need to select and engineer features again.\n",
    "# Here begins the modeling and predicting part.\n",
    "# Because the goal here is to predict if a passenger survived or not, and our target variable is binary, we should only consider classification algorithms.\n",
    "# We will use the following machine learning algorithms:\n",
    "# Logistic Regression\n",
    "# KNN\n",
    "# Decision Tree\n",
    "# Random Forest\n",
    "# XGBoost\n",
    "\n",
    "# Let's split the training data into training and testing in order to check the accuracy of our model\n",
    "x = train.drop(['Survived'], axis=1)\n",
    "y = train['Survived']\n",
    "train_x, test_x, train_y, test_y = train_test_split(x, y, test_size = 0.2, random_state=0)"
   ]
  },
  {
   "cell_type": "code",
   "execution_count": 32,
   "metadata": {
    "scrolled": true
   },
   "outputs": [
    {
     "name": "stdout",
     "output_type": "stream",
     "text": [
      "Accuracy with iterations 10: 0.7359550561797753\n",
      "Accuracy with iterations 20: 0.7303370786516854\n",
      "Accuracy with iterations 30: 0.7359550561797753\n",
      "Accuracy with iterations 40: 0.7584269662921348\n",
      "Accuracy with iterations 50: 0.7528089887640449\n"
     ]
    }
   ],
   "source": [
    "# Let's implement Logistic Regression first, from which we can tell each variable's coefficient to see if it's positively or negatively associated with the target variable, and how much influential it is.\n",
    "# Firstly, ignore warnings, or Python would keep showing warnings if we don't specify the \"max_iter\" argument for Logistic Regression\n",
    "warnings.filterwarnings(\"ignore\")\n",
    "\n",
    "# Build a for loop to choose the optimal value for max_iter to get the best accuracy score\n",
    "for i in [10, 20, 30, 40, 50]:\n",
    "    log_reg = LogisticRegression(max_iter = i)\n",
    "    log_reg.fit(train_x, train_y)\n",
    "    print(\"Accuracy with iterations {}: {}\".format(i, log_reg.score(test_x, test_y)))"
   ]
  },
  {
   "cell_type": "code",
   "execution_count": 33,
   "metadata": {},
   "outputs": [
    {
     "name": "stdout",
     "output_type": "stream",
     "text": [
      "Accuracy with Logistic Regression on training data: 84.1%\n",
      "Accuracy with Logistic Regression on testing data: 75.8%\n"
     ]
    }
   ],
   "source": [
    "# When iterations reached 40, the accuracy score stopped improving, so we should set max_iter to 40\n",
    "# The accuracy score of the logistic regression model on training data was 84.1%\n",
    "# While the score on testing data was 75.8%. \n",
    "log_reg = LogisticRegression(max_iter = 40)\n",
    "log_reg.fit(train_x, train_y)\n",
    "print(\"Accuracy with Logistic Regression on training data: {:.1f}%\".format(100*log_reg.score(train_x, train_y)))\n",
    "print(\"Accuracy with Logistic Regression on testing data: {:.1f}%\".format(100*log_reg.score(test_x, test_y)))\n",
    "log_reg_accuracy = round(100*log_reg.score(test_x, test_y), 2)"
   ]
  },
  {
   "cell_type": "code",
   "execution_count": 34,
   "metadata": {
    "scrolled": false
   },
   "outputs": [
    {
     "data": {
      "text/html": [
       "<div>\n",
       "<style scoped>\n",
       "    .dataframe tbody tr th:only-of-type {\n",
       "        vertical-align: middle;\n",
       "    }\n",
       "\n",
       "    .dataframe tbody tr th {\n",
       "        vertical-align: top;\n",
       "    }\n",
       "\n",
       "    .dataframe thead th {\n",
       "        text-align: right;\n",
       "    }\n",
       "</style>\n",
       "<table border=\"1\" class=\"dataframe\">\n",
       "  <thead>\n",
       "    <tr style=\"text-align: right;\">\n",
       "      <th></th>\n",
       "      <th>Feature</th>\n",
       "      <th>Coefficient</th>\n",
       "    </tr>\n",
       "  </thead>\n",
       "  <tbody>\n",
       "    <tr>\n",
       "      <th>5</th>\n",
       "      <td>female</td>\n",
       "      <td>1.520752</td>\n",
       "    </tr>\n",
       "    <tr>\n",
       "      <th>8</th>\n",
       "      <td>Master</td>\n",
       "      <td>1.193899</td>\n",
       "    </tr>\n",
       "    <tr>\n",
       "      <th>11</th>\n",
       "      <td>Mrs</td>\n",
       "      <td>1.055750</td>\n",
       "    </tr>\n",
       "    <tr>\n",
       "      <th>6</th>\n",
       "      <td>C</td>\n",
       "      <td>0.857929</td>\n",
       "    </tr>\n",
       "    <tr>\n",
       "      <th>7</th>\n",
       "      <td>Q</td>\n",
       "      <td>0.436714</td>\n",
       "    </tr>\n",
       "    <tr>\n",
       "      <th>9</th>\n",
       "      <td>Miss</td>\n",
       "      <td>0.249164</td>\n",
       "    </tr>\n",
       "    <tr>\n",
       "      <th>4</th>\n",
       "      <td>Fare</td>\n",
       "      <td>0.007366</td>\n",
       "    </tr>\n",
       "    <tr>\n",
       "      <th>1</th>\n",
       "      <td>Age</td>\n",
       "      <td>-0.019732</td>\n",
       "    </tr>\n",
       "    <tr>\n",
       "      <th>2</th>\n",
       "      <td>SibSp</td>\n",
       "      <td>-0.241621</td>\n",
       "    </tr>\n",
       "    <tr>\n",
       "      <th>3</th>\n",
       "      <td>Parch</td>\n",
       "      <td>-0.485205</td>\n",
       "    </tr>\n",
       "    <tr>\n",
       "      <th>0</th>\n",
       "      <td>Pclass</td>\n",
       "      <td>-0.609141</td>\n",
       "    </tr>\n",
       "    <tr>\n",
       "      <th>10</th>\n",
       "      <td>Mr</td>\n",
       "      <td>-1.383381</td>\n",
       "    </tr>\n",
       "  </tbody>\n",
       "</table>\n",
       "</div>"
      ],
      "text/plain": [
       "   Feature  Coefficient\n",
       "5   female     1.520752\n",
       "8   Master     1.193899\n",
       "11     Mrs     1.055750\n",
       "6        C     0.857929\n",
       "7        Q     0.436714\n",
       "9     Miss     0.249164\n",
       "4     Fare     0.007366\n",
       "1      Age    -0.019732\n",
       "2    SibSp    -0.241621\n",
       "3    Parch    -0.485205\n",
       "0   Pclass    -0.609141\n",
       "10      Mr    -1.383381"
      ]
     },
     "execution_count": 34,
     "metadata": {},
     "output_type": "execute_result"
    }
   ],
   "source": [
    "# Combine Features and their corresponding coefficients into a DataFrame\n",
    "# Master has the highest coefficient, meaning the probability of surviving increases most when passengers are titled \"Master\".\n",
    "# This is what we expected since young children has a higher survival rate than adults.\n",
    "# Feature with the second highest coefficient is female, meaning female passengers are more likly to survive than male passengers.\n",
    "# Passengers embarked at Q and C are more likely to survive than those embarked at S.\n",
    "# As the family size increases, the chance to survive decreases.\n",
    "# Male adults is the group of passengers with lower probability to survive compared to kids and female passengers.\n",
    "log_results = pd.DataFrame(log_reg.coef_[0], train_x.columns, columns=['Coefficient']).reset_index()\n",
    "log_results = log_results.rename(columns={'index': 'Feature'}).sort_values(by='Coefficient', ascending=False)\n",
    "log_results"
   ]
  },
  {
   "cell_type": "code",
   "execution_count": 35,
   "metadata": {
    "scrolled": false
   },
   "outputs": [
    {
     "name": "stdout",
     "output_type": "stream",
     "text": [
      "Accuracy with iterations 10: 0.7359550561797753\n",
      "Accuracy with iterations 20: 0.7303370786516854\n",
      "Accuracy with iterations 30: 0.7359550561797753\n",
      "Accuracy with iterations 40: 0.7528089887640449\n",
      "Accuracy with iterations 50: 0.7415730337078652\n"
     ]
    }
   ],
   "source": [
    "# Based on the results, it seems that Fare has a very small influence on the survival rate. Therefore, let's drop Fare and see if the accuracy improved or not.\n",
    "nofare = ['Pclass', 'Age', 'SibSp', 'Parch', 'female', 'C', 'Q', 'Master', 'Miss', 'Mr', 'Mrs']\n",
    "for i in [10, 20, 30, 40, 50]:\n",
    "    log_reg_nofare = LogisticRegression(max_iter = i)\n",
    "    log_reg_nofare.fit(train_x[nofare], train_y)\n",
    "    print(\"Accuracy with iterations {}: {}\".format(i, log_reg_nofare.score(test_x[nofare], test_y)))"
   ]
  },
  {
   "cell_type": "code",
   "execution_count": 36,
   "metadata": {},
   "outputs": [
    {
     "name": "stdout",
     "output_type": "stream",
     "text": [
      "Accuracy with Logistic Regression on training data: 84.2%\n",
      "Accuracy with Logistic Regression on testing data: 75.3%\n"
     ]
    }
   ],
   "source": [
    "# With 40 iterations, we get the best accuracy.\n",
    "# The accuracy score on training data almost stays same, while the score decreases a little on testing data. \n",
    "# Therefore, we should stick with the model including Fare\n",
    "log_reg_nofare = LogisticRegression(max_iter = 40)\n",
    "log_reg_nofare.fit(train_x[nofare], train_y)\n",
    "print(\"Accuracy with Logistic Regression on training data: {:.1f}%\".format(100*log_reg_nofare.score(train_x[nofare], train_y)))\n",
    "print(\"Accuracy with Logistic Regression on testing data: {:.1f}%\".format(100*log_reg_nofare.score(test_x[nofare], test_y)))"
   ]
  },
  {
   "cell_type": "code",
   "execution_count": 37,
   "metadata": {},
   "outputs": [
    {
     "name": "stdout",
     "output_type": "stream",
     "text": [
      "Accuracy with 1 neighbors is 98.31% on training data\n",
      "Accuracy with 1 neighbors is 69.66% on testing data\n",
      "Accuracy with 2 neighbors is 85.09% on training data\n",
      "Accuracy with 2 neighbors is 65.17% on testing data\n",
      "Accuracy with 3 neighbors is 84.81% on training data\n",
      "Accuracy with 3 neighbors is 65.17% on testing data\n",
      "Accuracy with 4 neighbors is 82.14% on training data\n",
      "Accuracy with 4 neighbors is 64.61% on testing data\n",
      "Accuracy with 5 neighbors is 81.43% on training data\n",
      "Accuracy with 5 neighbors is 67.98% on testing data\n"
     ]
    }
   ],
   "source": [
    "# Next model we will implement is KNN, k-Nearest Neighbors, which is a supervised machine learning algorithm used for classification and regression.\n",
    "# KNN assumes that similar things exist in close proximity. In our case, the survived passengers should have some similar characteristics.\n",
    "# One important parameter to adjust here is n_neighbors, which highly determines the accuracy of our model.\n",
    "# n_neighbors specify the number of neighbors to use. \n",
    "# Let's use a for loop to pick the optimal value for n_neighbors\n",
    "for i in range(1, 6):\n",
    "    knn = KNeighborsClassifier(n_neighbors=i)\n",
    "    knn.fit(train_x, train_y)\n",
    "    print(\"Accuracy with {} neighbors is {:.2%} on training data\".format(i, knn.score(train_x, train_y)))\n",
    "    print(\"Accuracy with {} neighbors is {:.2%} on testing data\".format(i, knn.score(test_x, test_y)))"
   ]
  },
  {
   "cell_type": "code",
   "execution_count": 38,
   "metadata": {},
   "outputs": [
    {
     "name": "stdout",
     "output_type": "stream",
     "text": [
      "Accuracy with KNN is 98.31% on training data\n",
      "Accuracy with KNN is 69.66% on testing data\n"
     ]
    }
   ],
   "source": [
    "# We get highest accuracy by setting n_neighbors to 1 on both training and testing data, so let's set n_neighbors as 1\n",
    "# KNN model gets a very high accuracy on training data, however, the accuracy on testing data doesn't reach 70%\n",
    "# It doesn't perform as well as Logistic Regression\n",
    "knn = KNeighborsClassifier(n_neighbors=1)\n",
    "knn.fit(train_x, train_y)\n",
    "print(\"Accuracy with KNN is {:.2%} on training data\".format(knn.score(train_x, train_y)))\n",
    "print(\"Accuracy with KNN is {:.2%} on testing data\".format(knn.score(test_x, test_y)))\n",
    "knn_accuracy = round(100*knn.score(test_x, test_y), 2)"
   ]
  },
  {
   "cell_type": "code",
   "execution_count": 39,
   "metadata": {
    "scrolled": true
   },
   "outputs": [
    {
     "name": "stdout",
     "output_type": "stream",
     "text": [
      "Baseline Decision Tree's accuracy on training data is 98.73%\n",
      "Baseline Decision Tree's accuracy on testing data is 75.28%\n"
     ]
    }
   ],
   "source": [
    "# Next model we will implement is Decision Tree\n",
    "# Let's first build a baseline Decision Tree Classifier model to check for the accuracy\n",
    "# We need to specify a number for random_state to ensure reproducibility\n",
    "decision_tree = DecisionTreeClassifier(random_state=0)\n",
    "decision_tree.fit(train_x, train_y)\n",
    "print(\"Baseline Decision Tree's accuracy on training data is {:.2%}\".format(decision_tree.score(train_x, train_y)))\n",
    "print(\"Baseline Decision Tree's accuracy on testing data is {:.2%}\".format(decision_tree.score(test_x, test_y)))"
   ]
  },
  {
   "cell_type": "code",
   "execution_count": 40,
   "metadata": {},
   "outputs": [],
   "source": [
    "# The parameter to adjust is max_depth, which specifies how depth of our tree.\n",
    "# As the tree goes deeper, our model becomes more complex, the chance of overfitting gets bigger. \n",
    "# Let's use a for loop to pick the optimal value for max_depth\n",
    "tree_train_results = []\n",
    "tree_test_results = []\n",
    "for i in range(1, 20):\n",
    "    decision_tree = DecisionTreeClassifier(random_state=0, max_depth=i)\n",
    "    decision_tree.fit(train_x, train_y)\n",
    "    tree_train_results.append(decision_tree.score(train_x, train_y))\n",
    "    tree_test_results.append(decision_tree.score(test_x, test_y))"
   ]
  },
  {
   "cell_type": "code",
   "execution_count": 41,
   "metadata": {
    "scrolled": true
   },
   "outputs": [
    {
     "data": {
      "image/png": "[encoded data removed]",
      "text/plain": [
       "<Figure size 432x288 with 1 Axes>"
      ]
     },
     "metadata": {
      "needs_background": "light"
     },
     "output_type": "display_data"
    }
   ],
   "source": [
    "# The accuracy score on both training and testing data improves as the depth goes from 1 to 8.\n",
    "# When we have the depth more than 8, the model is overfitting.\n",
    "f, ax = plt.subplots(figsize=(6,4))\n",
    "plt.plot(tree_train_results, 'g', label = 'Train Accuracy')\n",
    "plt.plot(tree_test_results, 'r', label = 'Test Accuracy')\n",
    "plt.legend()\n",
    "plt.title('Accuracy Score with Tree Depth')\n",
    "plt.show()"
   ]
  },
  {
   "cell_type": "code",
   "execution_count": 42,
   "metadata": {
    "scrolled": false
   },
   "outputs": [
    {
     "name": "stdout",
     "output_type": "stream",
     "text": [
      "Decision Tree's accuracy on training data is 92.55%\n",
      "Decision Tree's accuracy on testing data is 78.65%\n"
     ]
    }
   ],
   "source": [
    "# Let's set max_depth as 8. \n",
    "# The accuracy score on testing data is 78.65%, which is higher than what we got from Logistic Regression and KNN. \n",
    "decision_tree = DecisionTreeClassifier(random_state=0, max_depth=8)\n",
    "decision_tree.fit(train_x, train_y)\n",
    "print(\"Decision Tree's accuracy on training data is {:.2%}\".format(decision_tree.score(train_x, train_y)))\n",
    "print(\"Decision Tree's accuracy on testing data is {:.2%}\".format(decision_tree.score(test_x, test_y)))\n",
    "decision_tree_accuracy = round(100*decision_tree.score(test_x, test_y), 2)"
   ]
  },
  {
   "cell_type": "code",
   "execution_count": 43,
   "metadata": {},
   "outputs": [
    {
     "name": "stdout",
     "output_type": "stream",
     "text": [
      "Baseline Random Forest's accuracy on training data is 98.73%\n",
      "Baseline Random Forest's accuracy on testing data is 76.40%\n"
     ]
    }
   ],
   "source": [
    "# Next model we will build is Random Forest, which combines many trees and makes predictions by averaging the predictions of each component tree.\n",
    "# Therefore, it usually has better predictive accuracy than a single decision tree. \n",
    "# Let's build a baseline Random Forest model first without tuning any parameters\n",
    "random_forest = RandomForestClassifier(random_state=0)\n",
    "random_forest.fit(train_x, train_y)\n",
    "print(\"Baseline Random Forest's accuracy on training data is {:.2%}\".format(random_forest.score(train_x, train_y)))\n",
    "print(\"Baseline Random Forest's accuracy on testing data is {:.2%}\".format(random_forest.score(test_x, test_y)))"
   ]
  },
  {
   "cell_type": "code",
   "execution_count": 44,
   "metadata": {},
   "outputs": [],
   "source": [
    "# The parameter to tune is n_estimators, which is equal to the number of decision trees in the forest. \n",
    "forest_train_results = []\n",
    "forest_test_results = []\n",
    "for i in [100, 200, 300, 400, 500, 600, 700, 800, 900, 1000]:\n",
    "    random_forest = RandomForestClassifier(random_state=0, n_estimators=i)\n",
    "    random_forest.fit(train_x, train_y)\n",
    "    forest_train_results.append(random_forest.score(train_x, train_y))\n",
    "    forest_test_results.append(random_forest.score(test_x, test_y))"
   ]
  },
  {
   "cell_type": "code",
   "execution_count": 45,
   "metadata": {
    "scrolled": true
   },
   "outputs": [
    {
     "data": {
      "image/png": "[encoded data removed]",
      "text/plain": [
       "<Figure size 432x288 with 1 Axes>"
      ]
     },
     "metadata": {
      "needs_background": "light"
     },
     "output_type": "display_data"
    }
   ],
   "source": [
    "# With n_estimators equal to 500, we get the highest accuracy, so let's set it to 500\n",
    "f, ax = plt.subplots(figsize=(6,4))\n",
    "plt.plot(forest_train_results, 'g', label = 'Train Accuracy')\n",
    "plt.plot(forest_test_results, 'r', label = 'Test Accuracy')\n",
    "plt.legend()\n",
    "plt.title('Accuracy Score with Random Forest')\n",
    "plt.show()"
   ]
  },
  {
   "cell_type": "code",
   "execution_count": 46,
   "metadata": {
    "scrolled": true
   },
   "outputs": [
    {
     "name": "stdout",
     "output_type": "stream",
     "text": [
      "Random Forest's accuracy on training data is 98.73%\n",
      "Random Forest's accuracy on testing data is 76.97%\n"
     ]
    }
   ],
   "source": [
    "# The accuracy score doesn't change on training data but improved a little bit on testing data compared to baseline Random Forest\n",
    "random_forest = RandomForestClassifier(random_state=0, n_estimators=500)\n",
    "random_forest.fit(train_x, train_y)\n",
    "print(\"Random Forest's accuracy on training data is {:.2%}\".format(random_forest.score(train_x, train_y)))\n",
    "print(\"Random Forest's accuracy on testing data is {:.2%}\".format(random_forest.score(test_x, test_y)))\n",
    "random_forest_accuracy = round(100*random_forest.score(test_x, test_y), 2)"
   ]
  },
  {
   "cell_type": "code",
   "execution_count": 47,
   "metadata": {
    "scrolled": true
   },
   "outputs": [
    {
     "name": "stdout",
     "output_type": "stream",
     "text": [
      "[22:33:06] WARNING: ..\\src\\learner.cc:1061: Starting in XGBoost 1.3.0, the default evaluation metric used with the objective 'binary:logistic' was changed from 'error' to 'logloss'. Explicitly set eval_metric if you'd like to restore the old behavior.\n",
      "XGB Classifier's accuracy on training data is 89.59%\n",
      "XGB Classifier's accuracy on testing data is 77.53%\n"
     ]
    }
   ],
   "source": [
    "# The last model we are going to use here is XGBClassifier, which is an implementation of gradient boosting.\n",
    "# Gradient boosting is an ensemble method that goes through cycles to add models into an ensemble.\n",
    "# Let's build it up with parameters n_estimators, learning_rate, early_stopping_rounds.\n",
    "xgb_model = XGBClassifier(n_estimators = 1000, learning_rate = 0.01)\n",
    "xgb_model.fit(train_x, train_y,\n",
    "             early_stopping_rounds = 5,\n",
    "             eval_set=[(test_x, test_y)],\n",
    "             verbose=False)\n",
    "print(\"XGB Classifier's accuracy on training data is {:.2%}\".format(xgb_model.score(train_x, train_y)))\n",
    "print(\"XGB Classifier's accuracy on testing data is {:.2%}\".format(xgb_model.score(test_x, test_y)))\n",
    "xgb_accuracy = round(100*xgb_model.score(test_x, test_y), 2)"
   ]
  },
  {
   "cell_type": "code",
   "execution_count": 48,
   "metadata": {
    "scrolled": true
   },
   "outputs": [
    {
     "data": {
      "text/html": [
       "<div>\n",
       "<style scoped>\n",
       "    .dataframe tbody tr th:only-of-type {\n",
       "        vertical-align: middle;\n",
       "    }\n",
       "\n",
       "    .dataframe tbody tr th {\n",
       "        vertical-align: top;\n",
       "    }\n",
       "\n",
       "    .dataframe thead th {\n",
       "        text-align: right;\n",
       "    }\n",
       "</style>\n",
       "<table border=\"1\" class=\"dataframe\">\n",
       "  <thead>\n",
       "    <tr style=\"text-align: right;\">\n",
       "      <th></th>\n",
       "      <th>Model</th>\n",
       "      <th>Accuracy Score</th>\n",
       "    </tr>\n",
       "  </thead>\n",
       "  <tbody>\n",
       "    <tr>\n",
       "      <th>2</th>\n",
       "      <td>Decision Tree</td>\n",
       "      <td>78.65</td>\n",
       "    </tr>\n",
       "    <tr>\n",
       "      <th>4</th>\n",
       "      <td>XGBoost</td>\n",
       "      <td>77.53</td>\n",
       "    </tr>\n",
       "    <tr>\n",
       "      <th>3</th>\n",
       "      <td>Random Forest</td>\n",
       "      <td>76.97</td>\n",
       "    </tr>\n",
       "    <tr>\n",
       "      <th>0</th>\n",
       "      <td>Logistic Regression</td>\n",
       "      <td>75.84</td>\n",
       "    </tr>\n",
       "    <tr>\n",
       "      <th>1</th>\n",
       "      <td>KNN</td>\n",
       "      <td>69.66</td>\n",
       "    </tr>\n",
       "  </tbody>\n",
       "</table>\n",
       "</div>"
      ],
      "text/plain": [
       "                 Model  Accuracy Score\n",
       "2        Decision Tree           78.65\n",
       "4              XGBoost           77.53\n",
       "3        Random Forest           76.97\n",
       "0  Logistic Regression           75.84\n",
       "1                  KNN           69.66"
      ]
     },
     "execution_count": 48,
     "metadata": {},
     "output_type": "execute_result"
    }
   ],
   "source": [
    "# Let's build a DataFrame to store the accuracy of each model\n",
    "# Accuracy of Decision Tree > XGBoost > Random Forest > Logistic Regression > KNN \n",
    "model_accuracy = pd.DataFrame({'Model': ['Logistic Regression', 'KNN', 'Decision Tree', 'Random Forest', 'XGBoost'],\n",
    "                              'Accuracy Score': [log_reg_accuracy, knn_accuracy, decision_tree_accuracy, random_forest_accuracy, xgb_accuracy]})\n",
    "model_accuracy.sort_values(by='Accuracy Score', ascending=False, inplace=True)\n",
    "model_accuracy"
   ]
  }
 ],
 "metadata": {
  "kernelspec": {
   "display_name": "Python 3",
   "language": "python",
   "name": "python3"
  },
  "language_info": {
   "codemirror_mode": {
    "name": "ipython",
    "version": 3
   },
   "file_extension": ".py",
   "mimetype": "text/x-python",
   "name": "python",
   "nbconvert_exporter": "python",
   "pygments_lexer": "ipython3",
   "version": "3.8.3"
  }
 },
 "nbformat": 4,
 "nbformat_minor": 4
}
